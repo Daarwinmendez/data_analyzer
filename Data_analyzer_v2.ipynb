{
 "cells": [
  {
   "cell_type": "markdown",
   "id": "c5200c76-4b02-42ae-af54-727ec9baa3be",
   "metadata": {},
   "source": [
    "# Analizando datos dinamicamente\n",
    "\n",
    "Este codigo sugiere que el usuario puede pasar una muestra en (CSV, xlxs), y potencialmente otros delimiitadores, luego dice de que trata el analisis deseado, luego se procesan dinamicamente los datos.\n",
    "\n",
    "\n",
    "\n",
    "Con este enfoque podemos escalar la complejidad de el programa a preguntas clave para obtener insights de la data proveida desde un principio."
   ]
  },
  {
   "cell_type": "code",
   "execution_count": 328,
   "id": "8334249e",
   "metadata": {},
   "outputs": [],
   "source": [
    "import pandas as pd\n",
    "import numpy as np\n",
    "import matplotlib.pyplot as plt\n",
    "from scipy.stats import norm"
   ]
  },
  {
   "cell_type": "code",
   "execution_count": 329,
   "id": "808214ae-a45b-4f19-8536-57d7d69c482c",
   "metadata": {},
   "outputs": [
    {
     "data": {
      "text/plain": [
       "['Solarize_Light2',\n",
       " '_classic_test_patch',\n",
       " '_mpl-gallery',\n",
       " '_mpl-gallery-nogrid',\n",
       " 'bmh',\n",
       " 'classic',\n",
       " 'dark_background',\n",
       " 'fast',\n",
       " 'fivethirtyeight',\n",
       " 'ggplot',\n",
       " 'grayscale',\n",
       " 'seaborn-v0_8',\n",
       " 'seaborn-v0_8-bright',\n",
       " 'seaborn-v0_8-colorblind',\n",
       " 'seaborn-v0_8-dark',\n",
       " 'seaborn-v0_8-dark-palette',\n",
       " 'seaborn-v0_8-darkgrid',\n",
       " 'seaborn-v0_8-deep',\n",
       " 'seaborn-v0_8-muted',\n",
       " 'seaborn-v0_8-notebook',\n",
       " 'seaborn-v0_8-paper',\n",
       " 'seaborn-v0_8-pastel',\n",
       " 'seaborn-v0_8-poster',\n",
       " 'seaborn-v0_8-talk',\n",
       " 'seaborn-v0_8-ticks',\n",
       " 'seaborn-v0_8-white',\n",
       " 'seaborn-v0_8-whitegrid',\n",
       " 'tableau-colorblind10']"
      ]
     },
     "execution_count": 329,
     "metadata": {},
     "output_type": "execute_result"
    }
   ],
   "source": [
    "plt.style.available"
   ]
  },
  {
   "cell_type": "code",
   "execution_count": 330,
   "id": "1676a488-e1ef-467a-a4c0-01a305597c15",
   "metadata": {},
   "outputs": [],
   "source": [
    "plt.style.use('seaborn-v0_8-whitegrid')"
   ]
  },
  {
   "cell_type": "markdown",
   "id": "01870fef",
   "metadata": {},
   "source": [
    "### Enunciado de Contextualización\n",
    "Un profesor quiere evaluar el rendimiento de sus estudiantes en un examen de matemáticas. Ha registrado las calificaciones de 30 estudiantes en una hoja de cálculo de Excel. Tu tarea es analizar estos datos y proporcionar medidas de centralización, una tabla de distribución y gráficos relevantes."
   ]
  },
  {
   "cell_type": "markdown",
   "id": "87c9e858-9095-4fed-b33b-556aad8ff6a4",
   "metadata": {},
   "source": [
    "Dado que:\n",
    "* Son 30 estudiantes\n",
    "* El profesor quiere evaluar el rendimiento de ellos\n",
    "* Las calificaciones estan en una Hoja de calculo.\n",
    "\n",
    "Asumamos que el profesor ya extrajo los datos en un formato de archivo delimitador, como  CSV (COMMA SEPARATED VALUES)\n",
    "y simulemos una matriz 5*6 o 6*5 que de igual modo seria 30.\n",
    "\n",
    "* Notese que los datos deben ser de un mismo tipo, o al menos compartir un dominio.\n",
    "\n",
    "Dicho esto podriamos a empezar a pasar los  datos automaticamente por la maquina.\n",
    "\n",
    "\n",
    "Ya yo dos bloques siguientes he seteado el tamaño de la matriz.\n",
    "```python\n",
    "np.random.seed(12)\n",
    "size=np.random.randint(low=5, high=10, size=2)\n",
    "\n",
    "```"
   ]
  },
  {
   "cell_type": "code",
   "execution_count": 331,
   "id": "ff1cf754-468e-49f4-a5bb-517cf0b73d96",
   "metadata": {},
   "outputs": [],
   "source": [
    "#np.random.seed(12)\n",
    "#size=np.random.randint(low=5, high=6, size=2)\n",
    "\n",
    "size= (5,6)"
   ]
  },
  {
   "cell_type": "code",
   "execution_count": 332,
   "id": "f9c15b3f-34d8-4f55-8567-ff13b4aae18c",
   "metadata": {},
   "outputs": [
    {
     "data": {
      "text/plain": [
       "['c0', 'c1', 'c2', 'c3', 'c4', 'c5']"
      ]
     },
     "execution_count": 332,
     "metadata": {},
     "output_type": "execute_result"
    }
   ],
   "source": [
    "key = [f'c{i}' for i in range(size[1]) ]\n",
    "key"
   ]
  },
  {
   "cell_type": "code",
   "execution_count": 333,
   "id": "77d68f13-cc26-4d30-95dd-0d808710589e",
   "metadata": {},
   "outputs": [],
   "source": [
    "np.random.seed(12)\n",
    "notas = pd.DataFrame(np.random.randint(low=70, high=100, size=size), columns=key)"
   ]
  },
  {
   "cell_type": "code",
   "execution_count": 334,
   "id": "2197848e",
   "metadata": {},
   "outputs": [
    {
     "data": {
      "text/html": [
       "<div>\n",
       "<style scoped>\n",
       "    .dataframe tbody tr th:only-of-type {\n",
       "        vertical-align: middle;\n",
       "    }\n",
       "\n",
       "    .dataframe tbody tr th {\n",
       "        vertical-align: top;\n",
       "    }\n",
       "\n",
       "    .dataframe thead th {\n",
       "        text-align: right;\n",
       "    }\n",
       "</style>\n",
       "<table border=\"1\" class=\"dataframe\">\n",
       "  <thead>\n",
       "    <tr style=\"text-align: right;\">\n",
       "      <th></th>\n",
       "      <th>c0</th>\n",
       "      <th>c1</th>\n",
       "      <th>c2</th>\n",
       "      <th>c3</th>\n",
       "      <th>c4</th>\n",
       "      <th>c5</th>\n",
       "    </tr>\n",
       "  </thead>\n",
       "  <tbody>\n",
       "    <tr>\n",
       "      <th>0</th>\n",
       "      <td>81</td>\n",
       "      <td>97</td>\n",
       "      <td>76</td>\n",
       "      <td>99</td>\n",
       "      <td>87</td>\n",
       "      <td>72</td>\n",
       "    </tr>\n",
       "    <tr>\n",
       "      <th>1</th>\n",
       "      <td>73</td>\n",
       "      <td>73</td>\n",
       "      <td>82</td>\n",
       "      <td>86</td>\n",
       "      <td>92</td>\n",
       "      <td>87</td>\n",
       "    </tr>\n",
       "    <tr>\n",
       "      <th>2</th>\n",
       "      <td>90</td>\n",
       "      <td>75</td>\n",
       "      <td>83</td>\n",
       "      <td>95</td>\n",
       "      <td>72</td>\n",
       "      <td>81</td>\n",
       "    </tr>\n",
       "    <tr>\n",
       "      <th>3</th>\n",
       "      <td>92</td>\n",
       "      <td>80</td>\n",
       "      <td>70</td>\n",
       "      <td>91</td>\n",
       "      <td>78</td>\n",
       "      <td>82</td>\n",
       "    </tr>\n",
       "    <tr>\n",
       "      <th>4</th>\n",
       "      <td>83</td>\n",
       "      <td>88</td>\n",
       "      <td>95</td>\n",
       "      <td>73</td>\n",
       "      <td>74</td>\n",
       "      <td>73</td>\n",
       "    </tr>\n",
       "  </tbody>\n",
       "</table>\n",
       "</div>"
      ],
      "text/plain": [
       "   c0  c1  c2  c3  c4  c5\n",
       "0  81  97  76  99  87  72\n",
       "1  73  73  82  86  92  87\n",
       "2  90  75  83  95  72  81\n",
       "3  92  80  70  91  78  82\n",
       "4  83  88  95  73  74  73"
      ]
     },
     "execution_count": 334,
     "metadata": {},
     "output_type": "execute_result"
    }
   ],
   "source": [
    "# Crear tabla de frecuencia\n",
    "notas"
   ]
  },
  {
   "cell_type": "code",
   "execution_count": 335,
   "id": "298761bc",
   "metadata": {},
   "outputs": [
    {
     "data": {
      "text/plain": [
       "<bound method DataFrame.info of    c0  c1  c2  c3  c4  c5\n",
       "0  81  97  76  99  87  72\n",
       "1  73  73  82  86  92  87\n",
       "2  90  75  83  95  72  81\n",
       "3  92  80  70  91  78  82\n",
       "4  83  88  95  73  74  73>"
      ]
     },
     "execution_count": 335,
     "metadata": {},
     "output_type": "execute_result"
    }
   ],
   "source": [
    "notas.info"
   ]
  },
  {
   "cell_type": "code",
   "execution_count": 336,
   "id": "aef10f35",
   "metadata": {},
   "outputs": [
    {
     "data": {
      "text/html": [
       "<div>\n",
       "<style scoped>\n",
       "    .dataframe tbody tr th:only-of-type {\n",
       "        vertical-align: middle;\n",
       "    }\n",
       "\n",
       "    .dataframe tbody tr th {\n",
       "        vertical-align: top;\n",
       "    }\n",
       "\n",
       "    .dataframe thead th {\n",
       "        text-align: right;\n",
       "    }\n",
       "</style>\n",
       "<table border=\"1\" class=\"dataframe\">\n",
       "  <thead>\n",
       "    <tr style=\"text-align: right;\">\n",
       "      <th></th>\n",
       "      <th>c0</th>\n",
       "      <th>c1</th>\n",
       "      <th>c2</th>\n",
       "      <th>c3</th>\n",
       "      <th>c4</th>\n",
       "      <th>c5</th>\n",
       "    </tr>\n",
       "  </thead>\n",
       "  <tbody>\n",
       "    <tr>\n",
       "      <th>0</th>\n",
       "      <td>81</td>\n",
       "      <td>97</td>\n",
       "      <td>76</td>\n",
       "      <td>99</td>\n",
       "      <td>87</td>\n",
       "      <td>72</td>\n",
       "    </tr>\n",
       "    <tr>\n",
       "      <th>1</th>\n",
       "      <td>73</td>\n",
       "      <td>73</td>\n",
       "      <td>82</td>\n",
       "      <td>86</td>\n",
       "      <td>92</td>\n",
       "      <td>87</td>\n",
       "    </tr>\n",
       "    <tr>\n",
       "      <th>2</th>\n",
       "      <td>90</td>\n",
       "      <td>75</td>\n",
       "      <td>83</td>\n",
       "      <td>95</td>\n",
       "      <td>72</td>\n",
       "      <td>81</td>\n",
       "    </tr>\n",
       "    <tr>\n",
       "      <th>3</th>\n",
       "      <td>92</td>\n",
       "      <td>80</td>\n",
       "      <td>70</td>\n",
       "      <td>91</td>\n",
       "      <td>78</td>\n",
       "      <td>82</td>\n",
       "    </tr>\n",
       "    <tr>\n",
       "      <th>4</th>\n",
       "      <td>83</td>\n",
       "      <td>88</td>\n",
       "      <td>95</td>\n",
       "      <td>73</td>\n",
       "      <td>74</td>\n",
       "      <td>73</td>\n",
       "    </tr>\n",
       "  </tbody>\n",
       "</table>\n",
       "</div>"
      ],
      "text/plain": [
       "   c0  c1  c2  c3  c4  c5\n",
       "0  81  97  76  99  87  72\n",
       "1  73  73  82  86  92  87\n",
       "2  90  75  83  95  72  81\n",
       "3  92  80  70  91  78  82\n",
       "4  83  88  95  73  74  73"
      ]
     },
     "execution_count": 336,
     "metadata": {},
     "output_type": "execute_result"
    }
   ],
   "source": [
    "notas.head()"
   ]
  },
  {
   "cell_type": "code",
   "execution_count": 337,
   "id": "6bd08528",
   "metadata": {},
   "outputs": [
    {
     "data": {
      "text/plain": [
       "'c3'"
      ]
     },
     "execution_count": 337,
     "metadata": {},
     "output_type": "execute_result"
    }
   ],
   "source": [
    "notas.columns[3]"
   ]
  },
  {
   "cell_type": "code",
   "execution_count": 338,
   "id": "12c2c7a6",
   "metadata": {},
   "outputs": [
    {
     "data": {
      "text/plain": [
       "c0    int64\n",
       "c1    int64\n",
       "c2    int64\n",
       "c3    int64\n",
       "c4    int64\n",
       "c5    int64\n",
       "dtype: object"
      ]
     },
     "execution_count": 338,
     "metadata": {},
     "output_type": "execute_result"
    }
   ],
   "source": [
    "notas.dtypes"
   ]
  },
  {
   "cell_type": "code",
   "execution_count": 339,
   "id": "daa7b786",
   "metadata": {},
   "outputs": [],
   "source": [
    "unicos = np.unique(notas)"
   ]
  },
  {
   "cell_type": "code",
   "execution_count": 340,
   "id": "f55f46b1",
   "metadata": {},
   "outputs": [
    {
     "data": {
      "text/plain": [
       "array([70, 72, 73, 74, 75, 76, 78, 80, 81, 82, 83, 86, 87, 88, 90, 91, 92,\n",
       "       95, 97, 99])"
      ]
     },
     "execution_count": 340,
     "metadata": {},
     "output_type": "execute_result"
    }
   ],
   "source": [
    "unicos"
   ]
  },
  {
   "cell_type": "code",
   "execution_count": 341,
   "id": "5ed33e2c",
   "metadata": {},
   "outputs": [
    {
     "name": "stdout",
     "output_type": "stream",
     "text": [
      "El dato minimo es: 70, El dato maximo es: 99\n"
     ]
    }
   ],
   "source": [
    "minimo = unicos.min()\n",
    "maximo = unicos.max()\n",
    "print(f\"El dato minimo es: {minimo},\", f\"El dato maximo es: {maximo}\")"
   ]
  },
  {
   "cell_type": "code",
   "execution_count": 342,
   "id": "b21e0091",
   "metadata": {},
   "outputs": [],
   "source": [
    "n_total_datos = notas.count().sum()"
   ]
  },
  {
   "cell_type": "code",
   "execution_count": 343,
   "id": "37005d27",
   "metadata": {},
   "outputs": [
    {
     "data": {
      "text/plain": [
       "(29, 5, 6)"
      ]
     },
     "execution_count": 343,
     "metadata": {},
     "output_type": "execute_result"
    }
   ],
   "source": [
    "rango = maximo - minimo;\n",
    "intervalos = round(1 + 3.322 * np.log10(n_total_datos),2)\n",
    "\n",
    "\n",
    "def round_to_nearest_odd(n):\n",
    "    rounded = round(n)\n",
    "    if rounded % 2 == 0:\n",
    "        return rounded + 1 if rounded < n else rounded - 1\n",
    "    return rounded\n",
    "\n",
    "\n",
    "\n",
    "\n",
    "intervalos = round_to_nearest_odd(intervalos)\n",
    "amplitud = round(rango / intervalos);\n",
    "rango, intervalos, amplitud"
   ]
  },
  {
   "cell_type": "code",
   "execution_count": 344,
   "id": "19c0f813",
   "metadata": {},
   "outputs": [],
   "source": [
    "index=[\"min\", \"max\", \"ran\", \"interv\", \"Amp\"]"
   ]
  },
  {
   "cell_type": "code",
   "execution_count": 345,
   "id": "b9317781",
   "metadata": {},
   "outputs": [],
   "source": [
    "#variables = pd.DataFrame([int(minimo), int(maximo), int(rango), int(intervalos), int(amplitud)])\n",
    "\n",
    "\n",
    "#variables = pd.DataFrame({, columns=[\"Varibles\"]})\n",
    "\n",
    "variables = pd.DataFrame({\"Min\": int(minimo), \"Max\": int(maximo), \"R\": int(rango), \"Interv\": int(intervalos), \"Amp\": int(amplitud)}, index=[0])"
   ]
  },
  {
   "cell_type": "code",
   "execution_count": 346,
   "id": "95787772",
   "metadata": {},
   "outputs": [
    {
     "data": {
      "text/html": [
       "<div>\n",
       "<style scoped>\n",
       "    .dataframe tbody tr th:only-of-type {\n",
       "        vertical-align: middle;\n",
       "    }\n",
       "\n",
       "    .dataframe tbody tr th {\n",
       "        vertical-align: top;\n",
       "    }\n",
       "\n",
       "    .dataframe thead th {\n",
       "        text-align: right;\n",
       "    }\n",
       "</style>\n",
       "<table border=\"1\" class=\"dataframe\">\n",
       "  <thead>\n",
       "    <tr style=\"text-align: right;\">\n",
       "      <th></th>\n",
       "      <th>Min</th>\n",
       "      <th>Max</th>\n",
       "      <th>R</th>\n",
       "      <th>Interv</th>\n",
       "      <th>Amp</th>\n",
       "    </tr>\n",
       "  </thead>\n",
       "  <tbody>\n",
       "    <tr>\n",
       "      <th>0</th>\n",
       "      <td>70</td>\n",
       "      <td>99</td>\n",
       "      <td>29</td>\n",
       "      <td>5</td>\n",
       "      <td>6</td>\n",
       "    </tr>\n",
       "  </tbody>\n",
       "</table>\n",
       "</div>"
      ],
      "text/plain": [
       "   Min  Max   R  Interv  Amp\n",
       "0   70   99  29       5    6"
      ]
     },
     "execution_count": 346,
     "metadata": {},
     "output_type": "execute_result"
    }
   ],
   "source": [
    "variables"
   ]
  },
  {
   "cell_type": "code",
   "execution_count": 347,
   "id": "10375644",
   "metadata": {},
   "outputs": [
    {
     "data": {
      "text/plain": [
       "5"
      ]
     },
     "execution_count": 347,
     "metadata": {},
     "output_type": "execute_result"
    }
   ],
   "source": [
    "intervalos"
   ]
  },
  {
   "cell_type": "code",
   "execution_count": 348,
   "id": "9fc5c1ca",
   "metadata": {},
   "outputs": [],
   "source": [
    "# limiite inferior\n",
    "\"\"\"\n",
    "1 - 2\n",
    "2 - 3\n",
    "3 - 4\n",
    "\"\"\"\n",
    "li = [minimo];\n",
    "ls = [minimo + amplitud]; \n"
   ]
  },
  {
   "cell_type": "code",
   "execution_count": 349,
   "id": "ce5a082c",
   "metadata": {},
   "outputs": [
    {
     "data": {
      "text/plain": [
       "([70], [76])"
      ]
     },
     "execution_count": 349,
     "metadata": {},
     "output_type": "execute_result"
    }
   ],
   "source": [
    "li, ls"
   ]
  },
  {
   "cell_type": "code",
   "execution_count": 350,
   "id": "786d9486",
   "metadata": {},
   "outputs": [],
   "source": [
    "count = 1\n",
    "while count <=  len(key) +1 and ls.copy().pop() <= maximo:\n",
    "    li.append(ls.copy().pop())\n",
    "    #li.append(ls.copy().pop())\n",
    "    ls.append(ls.copy().pop() + amplitud)\n",
    "\n",
    "    count+=1\n",
    "\n",
    "\n",
    "#  observando si el limite superior, es el dato maximo + 1.\n",
    "if(ls.copy().pop() <= maximo and ls.copy().pop() <= maximo):\n",
    "    li.append(ls.copy().pop())\n",
    "    ls.append(ls.copy().pop() + amplitud)\n",
    "else:\n",
    "    li\n",
    "    ls \n",
    "#pd.Series()"
   ]
  },
  {
   "cell_type": "code",
   "execution_count": 351,
   "id": "c6421553",
   "metadata": {},
   "outputs": [
    {
     "data": {
      "text/plain": [
       "([70, 76, 82, 88, 94], [76, 82, 88, 94, 100])"
      ]
     },
     "execution_count": 351,
     "metadata": {},
     "output_type": "execute_result"
    }
   ],
   "source": [
    "li, ls"
   ]
  },
  {
   "cell_type": "code",
   "execution_count": 352,
   "id": "f1e51933",
   "metadata": {},
   "outputs": [],
   "source": [
    "frec_table = pd.DataFrame({\"Li\": li, \"Ls\":ls,})"
   ]
  },
  {
   "cell_type": "code",
   "execution_count": 353,
   "id": "bdac1924",
   "metadata": {},
   "outputs": [
    {
     "data": {
      "text/html": [
       "<div>\n",
       "<style scoped>\n",
       "    .dataframe tbody tr th:only-of-type {\n",
       "        vertical-align: middle;\n",
       "    }\n",
       "\n",
       "    .dataframe tbody tr th {\n",
       "        vertical-align: top;\n",
       "    }\n",
       "\n",
       "    .dataframe thead th {\n",
       "        text-align: right;\n",
       "    }\n",
       "</style>\n",
       "<table border=\"1\" class=\"dataframe\">\n",
       "  <thead>\n",
       "    <tr style=\"text-align: right;\">\n",
       "      <th></th>\n",
       "      <th>Li</th>\n",
       "      <th>Ls</th>\n",
       "    </tr>\n",
       "  </thead>\n",
       "  <tbody>\n",
       "    <tr>\n",
       "      <th>0</th>\n",
       "      <td>70</td>\n",
       "      <td>76</td>\n",
       "    </tr>\n",
       "    <tr>\n",
       "      <th>1</th>\n",
       "      <td>76</td>\n",
       "      <td>82</td>\n",
       "    </tr>\n",
       "    <tr>\n",
       "      <th>2</th>\n",
       "      <td>82</td>\n",
       "      <td>88</td>\n",
       "    </tr>\n",
       "    <tr>\n",
       "      <th>3</th>\n",
       "      <td>88</td>\n",
       "      <td>94</td>\n",
       "    </tr>\n",
       "    <tr>\n",
       "      <th>4</th>\n",
       "      <td>94</td>\n",
       "      <td>100</td>\n",
       "    </tr>\n",
       "  </tbody>\n",
       "</table>\n",
       "</div>"
      ],
      "text/plain": [
       "   Li   Ls\n",
       "0  70   76\n",
       "1  76   82\n",
       "2  82   88\n",
       "3  88   94\n",
       "4  94  100"
      ]
     },
     "execution_count": 353,
     "metadata": {},
     "output_type": "execute_result"
    }
   ],
   "source": [
    "frec_table"
   ]
  },
  {
   "cell_type": "code",
   "execution_count": 354,
   "id": "f0ed1110",
   "metadata": {},
   "outputs": [],
   "source": [
    "# Marca clase\n",
    "marca_clase = (frec_table['Li'] + frec_table['Ls']) / 2\n",
    "frec_table[\"X\"] = marca_clase"
   ]
  },
  {
   "cell_type": "code",
   "execution_count": 355,
   "id": "11bbd8e3",
   "metadata": {},
   "outputs": [
    {
     "data": {
      "text/html": [
       "<div>\n",
       "<style scoped>\n",
       "    .dataframe tbody tr th:only-of-type {\n",
       "        vertical-align: middle;\n",
       "    }\n",
       "\n",
       "    .dataframe tbody tr th {\n",
       "        vertical-align: top;\n",
       "    }\n",
       "\n",
       "    .dataframe thead th {\n",
       "        text-align: right;\n",
       "    }\n",
       "</style>\n",
       "<table border=\"1\" class=\"dataframe\">\n",
       "  <thead>\n",
       "    <tr style=\"text-align: right;\">\n",
       "      <th></th>\n",
       "      <th>Li</th>\n",
       "      <th>Ls</th>\n",
       "      <th>X</th>\n",
       "    </tr>\n",
       "  </thead>\n",
       "  <tbody>\n",
       "    <tr>\n",
       "      <th>0</th>\n",
       "      <td>70</td>\n",
       "      <td>76</td>\n",
       "      <td>73.0</td>\n",
       "    </tr>\n",
       "    <tr>\n",
       "      <th>1</th>\n",
       "      <td>76</td>\n",
       "      <td>82</td>\n",
       "      <td>79.0</td>\n",
       "    </tr>\n",
       "    <tr>\n",
       "      <th>2</th>\n",
       "      <td>82</td>\n",
       "      <td>88</td>\n",
       "      <td>85.0</td>\n",
       "    </tr>\n",
       "    <tr>\n",
       "      <th>3</th>\n",
       "      <td>88</td>\n",
       "      <td>94</td>\n",
       "      <td>91.0</td>\n",
       "    </tr>\n",
       "    <tr>\n",
       "      <th>4</th>\n",
       "      <td>94</td>\n",
       "      <td>100</td>\n",
       "      <td>97.0</td>\n",
       "    </tr>\n",
       "  </tbody>\n",
       "</table>\n",
       "</div>"
      ],
      "text/plain": [
       "   Li   Ls     X\n",
       "0  70   76  73.0\n",
       "1  76   82  79.0\n",
       "2  82   88  85.0\n",
       "3  88   94  91.0\n",
       "4  94  100  97.0"
      ]
     },
     "execution_count": 355,
     "metadata": {},
     "output_type": "execute_result"
    }
   ],
   "source": [
    "frec_table"
   ]
  },
  {
   "cell_type": "code",
   "execution_count": 356,
   "id": "62cdda1c",
   "metadata": {},
   "outputs": [
    {
     "data": {
      "text/html": [
       "<div>\n",
       "<style scoped>\n",
       "    .dataframe tbody tr th:only-of-type {\n",
       "        vertical-align: middle;\n",
       "    }\n",
       "\n",
       "    .dataframe tbody tr th {\n",
       "        vertical-align: top;\n",
       "    }\n",
       "\n",
       "    .dataframe thead th {\n",
       "        text-align: right;\n",
       "    }\n",
       "</style>\n",
       "<table border=\"1\" class=\"dataframe\">\n",
       "  <thead>\n",
       "    <tr style=\"text-align: right;\">\n",
       "      <th></th>\n",
       "      <th>c0</th>\n",
       "      <th>c1</th>\n",
       "      <th>c2</th>\n",
       "      <th>c3</th>\n",
       "      <th>c4</th>\n",
       "      <th>c5</th>\n",
       "    </tr>\n",
       "  </thead>\n",
       "  <tbody>\n",
       "    <tr>\n",
       "      <th>0</th>\n",
       "      <td>81</td>\n",
       "      <td>97</td>\n",
       "      <td>76</td>\n",
       "      <td>99</td>\n",
       "      <td>87</td>\n",
       "      <td>72</td>\n",
       "    </tr>\n",
       "    <tr>\n",
       "      <th>1</th>\n",
       "      <td>73</td>\n",
       "      <td>73</td>\n",
       "      <td>82</td>\n",
       "      <td>86</td>\n",
       "      <td>92</td>\n",
       "      <td>87</td>\n",
       "    </tr>\n",
       "    <tr>\n",
       "      <th>2</th>\n",
       "      <td>90</td>\n",
       "      <td>75</td>\n",
       "      <td>83</td>\n",
       "      <td>95</td>\n",
       "      <td>72</td>\n",
       "      <td>81</td>\n",
       "    </tr>\n",
       "    <tr>\n",
       "      <th>3</th>\n",
       "      <td>92</td>\n",
       "      <td>80</td>\n",
       "      <td>70</td>\n",
       "      <td>91</td>\n",
       "      <td>78</td>\n",
       "      <td>82</td>\n",
       "    </tr>\n",
       "    <tr>\n",
       "      <th>4</th>\n",
       "      <td>83</td>\n",
       "      <td>88</td>\n",
       "      <td>95</td>\n",
       "      <td>73</td>\n",
       "      <td>74</td>\n",
       "      <td>73</td>\n",
       "    </tr>\n",
       "  </tbody>\n",
       "</table>\n",
       "</div>"
      ],
      "text/plain": [
       "   c0  c1  c2  c3  c4  c5\n",
       "0  81  97  76  99  87  72\n",
       "1  73  73  82  86  92  87\n",
       "2  90  75  83  95  72  81\n",
       "3  92  80  70  91  78  82\n",
       "4  83  88  95  73  74  73"
      ]
     },
     "execution_count": 356,
     "metadata": {},
     "output_type": "execute_result"
    }
   ],
   "source": [
    "notas"
   ]
  },
  {
   "cell_type": "code",
   "execution_count": 357,
   "id": "e51fd216",
   "metadata": {},
   "outputs": [
    {
     "data": {
      "text/plain": [
       "array([70, 72, 73, 74, 75, 76, 78, 80, 81, 82, 83, 86, 87, 88, 90, 91, 92,\n",
       "       95, 97, 99])"
      ]
     },
     "execution_count": 357,
     "metadata": {},
     "output_type": "execute_result"
    }
   ],
   "source": [
    "unicos\n"
   ]
  },
  {
   "cell_type": "code",
   "execution_count": 358,
   "id": "9ace96e7",
   "metadata": {},
   "outputs": [
    {
     "data": {
      "text/plain": [
       "70"
      ]
     },
     "execution_count": 358,
     "metadata": {},
     "output_type": "execute_result"
    }
   ],
   "source": [
    "li[0]"
   ]
  },
  {
   "cell_type": "code",
   "execution_count": 359,
   "id": "d45a950d-8926-4867-bd61-540606d9a0af",
   "metadata": {},
   "outputs": [
    {
     "data": {
      "text/plain": [
       "5"
      ]
     },
     "execution_count": 359,
     "metadata": {},
     "output_type": "execute_result"
    }
   ],
   "source": [
    "intervalos"
   ]
  },
  {
   "cell_type": "code",
   "execution_count": 360,
   "id": "23f11423-3c55-400d-85a5-1d5204163704",
   "metadata": {},
   "outputs": [
    {
     "data": {
      "text/html": [
       "<div>\n",
       "<style scoped>\n",
       "    .dataframe tbody tr th:only-of-type {\n",
       "        vertical-align: middle;\n",
       "    }\n",
       "\n",
       "    .dataframe tbody tr th {\n",
       "        vertical-align: top;\n",
       "    }\n",
       "\n",
       "    .dataframe thead th {\n",
       "        text-align: right;\n",
       "    }\n",
       "</style>\n",
       "<table border=\"1\" class=\"dataframe\">\n",
       "  <thead>\n",
       "    <tr style=\"text-align: right;\">\n",
       "      <th></th>\n",
       "      <th>Li</th>\n",
       "      <th>Ls</th>\n",
       "      <th>X</th>\n",
       "    </tr>\n",
       "  </thead>\n",
       "  <tbody>\n",
       "    <tr>\n",
       "      <th>0</th>\n",
       "      <td>70</td>\n",
       "      <td>76</td>\n",
       "      <td>73.0</td>\n",
       "    </tr>\n",
       "    <tr>\n",
       "      <th>1</th>\n",
       "      <td>76</td>\n",
       "      <td>82</td>\n",
       "      <td>79.0</td>\n",
       "    </tr>\n",
       "    <tr>\n",
       "      <th>2</th>\n",
       "      <td>82</td>\n",
       "      <td>88</td>\n",
       "      <td>85.0</td>\n",
       "    </tr>\n",
       "    <tr>\n",
       "      <th>3</th>\n",
       "      <td>88</td>\n",
       "      <td>94</td>\n",
       "      <td>91.0</td>\n",
       "    </tr>\n",
       "    <tr>\n",
       "      <th>4</th>\n",
       "      <td>94</td>\n",
       "      <td>100</td>\n",
       "      <td>97.0</td>\n",
       "    </tr>\n",
       "  </tbody>\n",
       "</table>\n",
       "</div>"
      ],
      "text/plain": [
       "   Li   Ls     X\n",
       "0  70   76  73.0\n",
       "1  76   82  79.0\n",
       "2  82   88  85.0\n",
       "3  88   94  91.0\n",
       "4  94  100  97.0"
      ]
     },
     "execution_count": 360,
     "metadata": {},
     "output_type": "execute_result"
    }
   ],
   "source": [
    "frec_table"
   ]
  },
  {
   "cell_type": "code",
   "execution_count": 361,
   "id": "45b9b4f9-9715-407f-8772-b60291aedce1",
   "metadata": {},
   "outputs": [
    {
     "data": {
      "text/plain": [
       "30"
      ]
     },
     "execution_count": 361,
     "metadata": {},
     "output_type": "execute_result"
    }
   ],
   "source": [
    "frec_absoluta = []\n",
    "\n",
    "\n",
    "# It's always best to try it manually and then refactorize the code, this one's an example.\n",
    "\"\"\"\n",
    "frec_absoluta.append(notas[(notas >= li[0]) & (notas < ls[0])].count().sum())\n",
    "frec_absoluta.append(notas[(notas >= li[1]) & (notas < ls[2])].count().sum())\n",
    "frec_absoluta.append(notas[(notas >= li[3]) & (notas < ls[3])].count().sum())\n",
    "frec_absoluta.append(notas[(notas >= li[4]) & (notas < ls[4])].count().sum())\n",
    "frec_absoluta.append(notas[(notas >= li[5]) & (notas < ls[5])].count().sum())\n",
    "frec_absoluta.append(notas[(notas >= li[6]) & (notas < ls[6])].count().sum())\n",
    "frec_absoluta.append(notas[(notas >= li[7]) & (notas < ls[7])].count().sum())\n",
    "\"\"\"\n",
    "for i in range(len(li)):\n",
    "    frec_absoluta.append(notas[(notas >= li[i]) & (notas < ls[i])].count().sum())\n",
    "\n",
    "\n",
    "# Aquí nos damos cuenta de que la cantidad de datos y el tamaño de la matriz son equivalentes, de esta manera sabemos que vamos bien\n",
    "np.sum(frec_absoluta)"
   ]
  },
  {
   "cell_type": "code",
   "execution_count": 362,
   "id": "1b693177-553f-45a4-9612-f127beb91fff",
   "metadata": {},
   "outputs": [
    {
     "data": {
      "text/plain": [
       "5"
      ]
     },
     "execution_count": 362,
     "metadata": {},
     "output_type": "execute_result"
    }
   ],
   "source": [
    "len(li)"
   ]
  },
  {
   "cell_type": "code",
   "execution_count": 363,
   "id": "b8d67a2e-1c66-45b7-ae15-94c75f70a731",
   "metadata": {},
   "outputs": [],
   "source": [
    "frec_table['f'] = frec_absoluta"
   ]
  },
  {
   "cell_type": "code",
   "execution_count": 364,
   "id": "93e54253",
   "metadata": {},
   "outputs": [
    {
     "data": {
      "text/html": [
       "<div>\n",
       "<style scoped>\n",
       "    .dataframe tbody tr th:only-of-type {\n",
       "        vertical-align: middle;\n",
       "    }\n",
       "\n",
       "    .dataframe tbody tr th {\n",
       "        vertical-align: top;\n",
       "    }\n",
       "\n",
       "    .dataframe thead th {\n",
       "        text-align: right;\n",
       "    }\n",
       "</style>\n",
       "<table border=\"1\" class=\"dataframe\">\n",
       "  <thead>\n",
       "    <tr style=\"text-align: right;\">\n",
       "      <th></th>\n",
       "      <th>Li</th>\n",
       "      <th>Ls</th>\n",
       "      <th>X</th>\n",
       "      <th>f</th>\n",
       "    </tr>\n",
       "  </thead>\n",
       "  <tbody>\n",
       "    <tr>\n",
       "      <th>0</th>\n",
       "      <td>70</td>\n",
       "      <td>76</td>\n",
       "      <td>73.0</td>\n",
       "      <td>9</td>\n",
       "    </tr>\n",
       "    <tr>\n",
       "      <th>1</th>\n",
       "      <td>76</td>\n",
       "      <td>82</td>\n",
       "      <td>79.0</td>\n",
       "      <td>5</td>\n",
       "    </tr>\n",
       "    <tr>\n",
       "      <th>2</th>\n",
       "      <td>82</td>\n",
       "      <td>88</td>\n",
       "      <td>85.0</td>\n",
       "      <td>7</td>\n",
       "    </tr>\n",
       "    <tr>\n",
       "      <th>3</th>\n",
       "      <td>88</td>\n",
       "      <td>94</td>\n",
       "      <td>91.0</td>\n",
       "      <td>5</td>\n",
       "    </tr>\n",
       "    <tr>\n",
       "      <th>4</th>\n",
       "      <td>94</td>\n",
       "      <td>100</td>\n",
       "      <td>97.0</td>\n",
       "      <td>4</td>\n",
       "    </tr>\n",
       "  </tbody>\n",
       "</table>\n",
       "</div>"
      ],
      "text/plain": [
       "   Li   Ls     X  f\n",
       "0  70   76  73.0  9\n",
       "1  76   82  79.0  5\n",
       "2  82   88  85.0  7\n",
       "3  88   94  91.0  5\n",
       "4  94  100  97.0  4"
      ]
     },
     "execution_count": 364,
     "metadata": {},
     "output_type": "execute_result"
    }
   ],
   "source": [
    "frec_table"
   ]
  },
  {
   "cell_type": "code",
   "execution_count": 365,
   "id": "09ee99b2",
   "metadata": {},
   "outputs": [],
   "source": [
    "frec_relativa = round(frec_table['f'] / n_total_datos, 4)\n",
    "\n",
    "frec_table['f r'] = frec_relativa"
   ]
  },
  {
   "cell_type": "code",
   "execution_count": 366,
   "id": "0fa0c151",
   "metadata": {},
   "outputs": [
    {
     "data": {
      "text/html": [
       "<div>\n",
       "<style scoped>\n",
       "    .dataframe tbody tr th:only-of-type {\n",
       "        vertical-align: middle;\n",
       "    }\n",
       "\n",
       "    .dataframe tbody tr th {\n",
       "        vertical-align: top;\n",
       "    }\n",
       "\n",
       "    .dataframe thead th {\n",
       "        text-align: right;\n",
       "    }\n",
       "</style>\n",
       "<table border=\"1\" class=\"dataframe\">\n",
       "  <thead>\n",
       "    <tr style=\"text-align: right;\">\n",
       "      <th></th>\n",
       "      <th>Li</th>\n",
       "      <th>Ls</th>\n",
       "      <th>X</th>\n",
       "      <th>f</th>\n",
       "      <th>f r</th>\n",
       "    </tr>\n",
       "  </thead>\n",
       "  <tbody>\n",
       "    <tr>\n",
       "      <th>0</th>\n",
       "      <td>70</td>\n",
       "      <td>76</td>\n",
       "      <td>73.0</td>\n",
       "      <td>9</td>\n",
       "      <td>0.3000</td>\n",
       "    </tr>\n",
       "    <tr>\n",
       "      <th>1</th>\n",
       "      <td>76</td>\n",
       "      <td>82</td>\n",
       "      <td>79.0</td>\n",
       "      <td>5</td>\n",
       "      <td>0.1667</td>\n",
       "    </tr>\n",
       "    <tr>\n",
       "      <th>2</th>\n",
       "      <td>82</td>\n",
       "      <td>88</td>\n",
       "      <td>85.0</td>\n",
       "      <td>7</td>\n",
       "      <td>0.2333</td>\n",
       "    </tr>\n",
       "    <tr>\n",
       "      <th>3</th>\n",
       "      <td>88</td>\n",
       "      <td>94</td>\n",
       "      <td>91.0</td>\n",
       "      <td>5</td>\n",
       "      <td>0.1667</td>\n",
       "    </tr>\n",
       "    <tr>\n",
       "      <th>4</th>\n",
       "      <td>94</td>\n",
       "      <td>100</td>\n",
       "      <td>97.0</td>\n",
       "      <td>4</td>\n",
       "      <td>0.1333</td>\n",
       "    </tr>\n",
       "  </tbody>\n",
       "</table>\n",
       "</div>"
      ],
      "text/plain": [
       "   Li   Ls     X  f     f r\n",
       "0  70   76  73.0  9  0.3000\n",
       "1  76   82  79.0  5  0.1667\n",
       "2  82   88  85.0  7  0.2333\n",
       "3  88   94  91.0  5  0.1667\n",
       "4  94  100  97.0  4  0.1333"
      ]
     },
     "execution_count": 366,
     "metadata": {},
     "output_type": "execute_result"
    }
   ],
   "source": [
    "frec_table"
   ]
  },
  {
   "cell_type": "code",
   "execution_count": 367,
   "id": "b3a09fe3",
   "metadata": {},
   "outputs": [],
   "source": [
    "absoluta_acumulada = frec_table['f'].cumsum()"
   ]
  },
  {
   "cell_type": "code",
   "execution_count": 368,
   "id": "c6c799c6",
   "metadata": {},
   "outputs": [
    {
     "data": {
      "text/plain": [
       "0     9\n",
       "1    14\n",
       "2    21\n",
       "3    26\n",
       "4    30\n",
       "Name: f, dtype: int64"
      ]
     },
     "execution_count": 368,
     "metadata": {},
     "output_type": "execute_result"
    }
   ],
   "source": [
    "absoluta_acumulada"
   ]
  },
  {
   "cell_type": "code",
   "execution_count": 369,
   "id": "c6e24503",
   "metadata": {},
   "outputs": [],
   "source": [
    "frec_table['F']  = absoluta_acumulada"
   ]
  },
  {
   "cell_type": "code",
   "execution_count": 370,
   "id": "7dc0b95c-b704-4760-a04c-728f71454f5d",
   "metadata": {},
   "outputs": [
    {
     "data": {
      "text/html": [
       "<div>\n",
       "<style scoped>\n",
       "    .dataframe tbody tr th:only-of-type {\n",
       "        vertical-align: middle;\n",
       "    }\n",
       "\n",
       "    .dataframe tbody tr th {\n",
       "        vertical-align: top;\n",
       "    }\n",
       "\n",
       "    .dataframe thead th {\n",
       "        text-align: right;\n",
       "    }\n",
       "</style>\n",
       "<table border=\"1\" class=\"dataframe\">\n",
       "  <thead>\n",
       "    <tr style=\"text-align: right;\">\n",
       "      <th></th>\n",
       "      <th>Li</th>\n",
       "      <th>Ls</th>\n",
       "      <th>X</th>\n",
       "      <th>f</th>\n",
       "      <th>f r</th>\n",
       "      <th>F</th>\n",
       "    </tr>\n",
       "  </thead>\n",
       "  <tbody>\n",
       "    <tr>\n",
       "      <th>0</th>\n",
       "      <td>70</td>\n",
       "      <td>76</td>\n",
       "      <td>73.0</td>\n",
       "      <td>9</td>\n",
       "      <td>0.3000</td>\n",
       "      <td>9</td>\n",
       "    </tr>\n",
       "    <tr>\n",
       "      <th>1</th>\n",
       "      <td>76</td>\n",
       "      <td>82</td>\n",
       "      <td>79.0</td>\n",
       "      <td>5</td>\n",
       "      <td>0.1667</td>\n",
       "      <td>14</td>\n",
       "    </tr>\n",
       "    <tr>\n",
       "      <th>2</th>\n",
       "      <td>82</td>\n",
       "      <td>88</td>\n",
       "      <td>85.0</td>\n",
       "      <td>7</td>\n",
       "      <td>0.2333</td>\n",
       "      <td>21</td>\n",
       "    </tr>\n",
       "    <tr>\n",
       "      <th>3</th>\n",
       "      <td>88</td>\n",
       "      <td>94</td>\n",
       "      <td>91.0</td>\n",
       "      <td>5</td>\n",
       "      <td>0.1667</td>\n",
       "      <td>26</td>\n",
       "    </tr>\n",
       "    <tr>\n",
       "      <th>4</th>\n",
       "      <td>94</td>\n",
       "      <td>100</td>\n",
       "      <td>97.0</td>\n",
       "      <td>4</td>\n",
       "      <td>0.1333</td>\n",
       "      <td>30</td>\n",
       "    </tr>\n",
       "  </tbody>\n",
       "</table>\n",
       "</div>"
      ],
      "text/plain": [
       "   Li   Ls     X  f     f r   F\n",
       "0  70   76  73.0  9  0.3000   9\n",
       "1  76   82  79.0  5  0.1667  14\n",
       "2  82   88  85.0  7  0.2333  21\n",
       "3  88   94  91.0  5  0.1667  26\n",
       "4  94  100  97.0  4  0.1333  30"
      ]
     },
     "execution_count": 370,
     "metadata": {},
     "output_type": "execute_result"
    }
   ],
   "source": [
    "frec_table"
   ]
  },
  {
   "cell_type": "code",
   "execution_count": 371,
   "id": "ecf05ba1-501f-4d0c-b56b-d81916fae9f3",
   "metadata": {},
   "outputs": [
    {
     "data": {
      "text/plain": [
       "0    30.00\n",
       "1    16.67\n",
       "2    23.33\n",
       "3    16.67\n",
       "4    13.33\n",
       "Name: f, dtype: float64"
      ]
     },
     "execution_count": 371,
     "metadata": {},
     "output_type": "execute_result"
    }
   ],
   "source": [
    "porcentual = round(frec_relativa * 100, 2)\n",
    "porcentual"
   ]
  },
  {
   "cell_type": "code",
   "execution_count": 372,
   "id": "3c54afa9-0625-4a13-a8af-6166897402aa",
   "metadata": {},
   "outputs": [],
   "source": [
    "frec_table['%'] =  porcentual"
   ]
  },
  {
   "cell_type": "code",
   "execution_count": 373,
   "id": "eb4978be-6b51-405e-b74a-371241871916",
   "metadata": {},
   "outputs": [
    {
     "data": {
      "text/html": [
       "<div>\n",
       "<style scoped>\n",
       "    .dataframe tbody tr th:only-of-type {\n",
       "        vertical-align: middle;\n",
       "    }\n",
       "\n",
       "    .dataframe tbody tr th {\n",
       "        vertical-align: top;\n",
       "    }\n",
       "\n",
       "    .dataframe thead th {\n",
       "        text-align: right;\n",
       "    }\n",
       "</style>\n",
       "<table border=\"1\" class=\"dataframe\">\n",
       "  <thead>\n",
       "    <tr style=\"text-align: right;\">\n",
       "      <th></th>\n",
       "      <th>Li</th>\n",
       "      <th>Ls</th>\n",
       "      <th>X</th>\n",
       "      <th>f</th>\n",
       "      <th>f r</th>\n",
       "      <th>F</th>\n",
       "      <th>%</th>\n",
       "    </tr>\n",
       "  </thead>\n",
       "  <tbody>\n",
       "    <tr>\n",
       "      <th>0</th>\n",
       "      <td>70</td>\n",
       "      <td>76</td>\n",
       "      <td>73.0</td>\n",
       "      <td>9</td>\n",
       "      <td>0.3000</td>\n",
       "      <td>9</td>\n",
       "      <td>30.00</td>\n",
       "    </tr>\n",
       "    <tr>\n",
       "      <th>1</th>\n",
       "      <td>76</td>\n",
       "      <td>82</td>\n",
       "      <td>79.0</td>\n",
       "      <td>5</td>\n",
       "      <td>0.1667</td>\n",
       "      <td>14</td>\n",
       "      <td>16.67</td>\n",
       "    </tr>\n",
       "    <tr>\n",
       "      <th>2</th>\n",
       "      <td>82</td>\n",
       "      <td>88</td>\n",
       "      <td>85.0</td>\n",
       "      <td>7</td>\n",
       "      <td>0.2333</td>\n",
       "      <td>21</td>\n",
       "      <td>23.33</td>\n",
       "    </tr>\n",
       "    <tr>\n",
       "      <th>3</th>\n",
       "      <td>88</td>\n",
       "      <td>94</td>\n",
       "      <td>91.0</td>\n",
       "      <td>5</td>\n",
       "      <td>0.1667</td>\n",
       "      <td>26</td>\n",
       "      <td>16.67</td>\n",
       "    </tr>\n",
       "    <tr>\n",
       "      <th>4</th>\n",
       "      <td>94</td>\n",
       "      <td>100</td>\n",
       "      <td>97.0</td>\n",
       "      <td>4</td>\n",
       "      <td>0.1333</td>\n",
       "      <td>30</td>\n",
       "      <td>13.33</td>\n",
       "    </tr>\n",
       "  </tbody>\n",
       "</table>\n",
       "</div>"
      ],
      "text/plain": [
       "   Li   Ls     X  f     f r   F      %\n",
       "0  70   76  73.0  9  0.3000   9  30.00\n",
       "1  76   82  79.0  5  0.1667  14  16.67\n",
       "2  82   88  85.0  7  0.2333  21  23.33\n",
       "3  88   94  91.0  5  0.1667  26  16.67\n",
       "4  94  100  97.0  4  0.1333  30  13.33"
      ]
     },
     "execution_count": 373,
     "metadata": {},
     "output_type": "execute_result"
    }
   ],
   "source": [
    "frec_table"
   ]
  },
  {
   "cell_type": "code",
   "execution_count": 374,
   "id": "5c6f25f2-6211-41e0-9aa6-56f3afbf87c7",
   "metadata": {},
   "outputs": [],
   "source": [
    "pcrt_cum = round(frec_table['%'].cumsum(),2)\n",
    "pcrt_cum\n",
    "\n",
    "frec_table['F %'] = pcrt_cum"
   ]
  },
  {
   "cell_type": "code",
   "execution_count": 375,
   "id": "0d2ec9d6-60c2-4d79-b221-94f74904460b",
   "metadata": {},
   "outputs": [
    {
     "data": {
      "text/plain": [
       "0    657.0\n",
       "1    395.0\n",
       "2    595.0\n",
       "3    455.0\n",
       "4    388.0\n",
       "dtype: float64"
      ]
     },
     "execution_count": 375,
     "metadata": {},
     "output_type": "execute_result"
    }
   ],
   "source": [
    "producto_xf = (marca_clase * frec_absoluta )\n",
    "producto_xf"
   ]
  },
  {
   "cell_type": "code",
   "execution_count": 376,
   "id": "54e5d51d-ef97-428d-8511-0aa5c30b9cf2",
   "metadata": {},
   "outputs": [],
   "source": [
    "frec_table['xf'] = producto_xf"
   ]
  },
  {
   "cell_type": "code",
   "execution_count": 377,
   "id": "1889587a-ca55-43c8-bb96-e7f368a870f9",
   "metadata": {},
   "outputs": [
    {
     "data": {
      "text/html": [
       "<div>\n",
       "<style scoped>\n",
       "    .dataframe tbody tr th:only-of-type {\n",
       "        vertical-align: middle;\n",
       "    }\n",
       "\n",
       "    .dataframe tbody tr th {\n",
       "        vertical-align: top;\n",
       "    }\n",
       "\n",
       "    .dataframe thead th {\n",
       "        text-align: right;\n",
       "    }\n",
       "</style>\n",
       "<table border=\"1\" class=\"dataframe\">\n",
       "  <thead>\n",
       "    <tr style=\"text-align: right;\">\n",
       "      <th></th>\n",
       "      <th>Li</th>\n",
       "      <th>Ls</th>\n",
       "      <th>X</th>\n",
       "      <th>f</th>\n",
       "      <th>f r</th>\n",
       "      <th>F</th>\n",
       "      <th>%</th>\n",
       "      <th>F %</th>\n",
       "      <th>xf</th>\n",
       "    </tr>\n",
       "  </thead>\n",
       "  <tbody>\n",
       "    <tr>\n",
       "      <th>0</th>\n",
       "      <td>70</td>\n",
       "      <td>76</td>\n",
       "      <td>73.0</td>\n",
       "      <td>9</td>\n",
       "      <td>0.3000</td>\n",
       "      <td>9</td>\n",
       "      <td>30.00</td>\n",
       "      <td>30.00</td>\n",
       "      <td>657.0</td>\n",
       "    </tr>\n",
       "    <tr>\n",
       "      <th>1</th>\n",
       "      <td>76</td>\n",
       "      <td>82</td>\n",
       "      <td>79.0</td>\n",
       "      <td>5</td>\n",
       "      <td>0.1667</td>\n",
       "      <td>14</td>\n",
       "      <td>16.67</td>\n",
       "      <td>46.67</td>\n",
       "      <td>395.0</td>\n",
       "    </tr>\n",
       "    <tr>\n",
       "      <th>2</th>\n",
       "      <td>82</td>\n",
       "      <td>88</td>\n",
       "      <td>85.0</td>\n",
       "      <td>7</td>\n",
       "      <td>0.2333</td>\n",
       "      <td>21</td>\n",
       "      <td>23.33</td>\n",
       "      <td>70.00</td>\n",
       "      <td>595.0</td>\n",
       "    </tr>\n",
       "    <tr>\n",
       "      <th>3</th>\n",
       "      <td>88</td>\n",
       "      <td>94</td>\n",
       "      <td>91.0</td>\n",
       "      <td>5</td>\n",
       "      <td>0.1667</td>\n",
       "      <td>26</td>\n",
       "      <td>16.67</td>\n",
       "      <td>86.67</td>\n",
       "      <td>455.0</td>\n",
       "    </tr>\n",
       "    <tr>\n",
       "      <th>4</th>\n",
       "      <td>94</td>\n",
       "      <td>100</td>\n",
       "      <td>97.0</td>\n",
       "      <td>4</td>\n",
       "      <td>0.1333</td>\n",
       "      <td>30</td>\n",
       "      <td>13.33</td>\n",
       "      <td>100.00</td>\n",
       "      <td>388.0</td>\n",
       "    </tr>\n",
       "  </tbody>\n",
       "</table>\n",
       "</div>"
      ],
      "text/plain": [
       "   Li   Ls     X  f     f r   F      %     F %     xf\n",
       "0  70   76  73.0  9  0.3000   9  30.00   30.00  657.0\n",
       "1  76   82  79.0  5  0.1667  14  16.67   46.67  395.0\n",
       "2  82   88  85.0  7  0.2333  21  23.33   70.00  595.0\n",
       "3  88   94  91.0  5  0.1667  26  16.67   86.67  455.0\n",
       "4  94  100  97.0  4  0.1333  30  13.33  100.00  388.0"
      ]
     },
     "execution_count": 377,
     "metadata": {},
     "output_type": "execute_result"
    }
   ],
   "source": [
    "frec_table"
   ]
  },
  {
   "cell_type": "code",
   "execution_count": 378,
   "id": "56b1e42b-a76b-40cb-bd71-b65930cc5c33",
   "metadata": {},
   "outputs": [
    {
     "data": {
      "text/plain": [
       "2490.0"
      ]
     },
     "execution_count": 378,
     "metadata": {},
     "output_type": "execute_result"
    }
   ],
   "source": [
    "suma_prod_xf = producto_xf.sum()\n",
    "suma_prod_xf"
   ]
  },
  {
   "attachments": {},
   "cell_type": "markdown",
   "id": "c7efb5cd-22e3-46c3-9f30-e13b1c6e7f85",
   "metadata": {},
   "source": [
    "### Formula de  la media"
   ]
  },
  {
   "cell_type": "code",
   "execution_count": 379,
   "id": "94757f2d-b194-4996-9fcf-b615e0d591f4",
   "metadata": {},
   "outputs": [
    {
     "data": {
      "text/plain": [
       "83.0"
      ]
     },
     "execution_count": 379,
     "metadata": {},
     "output_type": "execute_result"
    }
   ],
   "source": [
    "media = round(suma_prod_xf / n_total_datos,2);\n",
    "media"
   ]
  },
  {
   "cell_type": "code",
   "execution_count": 380,
   "id": "5b205b63-2e44-4c1f-9ba4-a2d9e467c802",
   "metadata": {},
   "outputs": [
    {
     "data": {
      "text/plain": [
       "15.0"
      ]
     },
     "execution_count": 380,
     "metadata": {},
     "output_type": "execute_result"
    }
   ],
   "source": [
    "division_n_datos = n_total_datos / 2\n",
    "\n",
    "\n",
    "division_n_datos"
   ]
  },
  {
   "cell_type": "code",
   "execution_count": 381,
   "id": "a2cc182f-5e83-4232-b5fa-041ce1b56f75",
   "metadata": {},
   "outputs": [
    {
     "data": {
      "text/plain": [
       "7"
      ]
     },
     "execution_count": 381,
     "metadata": {},
     "output_type": "execute_result"
    }
   ],
   "source": [
    "#posicion_mediana =\n",
    "\n",
    "#Organizo las posiciones mayor o igual a el resultado de la diivision y tomo el primer valor verdadero respecto a la condiición.\n",
    "posiciones_me_y_alante = frec_table[frec_table['F'] >= division_n_datos].index\n",
    "posiciones_me_atras = frec_table[frec_table['F'] < division_n_datos].index\n",
    "\n",
    "#frecuencia absoluta acumulada de la mediana\n",
    "fab_ac_i = posiciones_me_y_alante[0]\n",
    "fac_menos_i = posiciones_me_atras[-1]\n",
    "\n",
    "#  frecuencia absoluta de la mediana\n",
    "fab_i_me = frec_absoluta[fab_ac_i]\n",
    "fab_i_me"
   ]
  },
  {
   "cell_type": "code",
   "execution_count": 382,
   "id": "52b24706-2ed4-4dc5-83e4-bbf8fa4030f5",
   "metadata": {},
   "outputs": [
    {
     "data": {
      "text/plain": [
       "Index([2, 3, 4], dtype='int64')"
      ]
     },
     "execution_count": 382,
     "metadata": {},
     "output_type": "execute_result"
    }
   ],
   "source": [
    "frec_table[frec_table['F'] >= division_n_datos].index"
   ]
  },
  {
   "attachments": {},
   "cell_type": "markdown",
   "id": "1016ca29-7383-4ccd-a763-98398caeba06",
   "metadata": {},
   "source": [
    "#### Formula de la mediana\n",
    "\n",
    "\n",
    "1. Si N es par, aplicamos esta.\n",
    "\n",
    "![Imagen de formula](formula-mediana-n-par.png)\n",
    "\n",
    "\n",
    "3.  Si N es impar, aplicamos esta\n",
    "   \n",
    "![Imagen de formula](formula-mediana-n-impar.png)"
   ]
  },
  {
   "cell_type": "code",
   "execution_count": 383,
   "id": "16442636-b574-4e66-bfff-1615b8f28840",
   "metadata": {},
   "outputs": [
    {
     "data": {
      "text/plain": [
       "82.86"
      ]
     },
     "execution_count": 383,
     "metadata": {},
     "output_type": "execute_result"
    }
   ],
   "source": [
    "mediana=  0.0;\n",
    "\n",
    "\"\"\"\n",
    "if (n_total_datos % 2 ==  0):\n",
    "    # realiza la operación sin sumar \n",
    "    mediana = li + ((( n_total_datos / 2) - fac_menos_i) / fab_i_me)\n",
    "else:\n",
    "    mediana = li + ( (( (n_total_datos+1) / 2) - fac_menos_i) / fab_i_me)\n",
    "\"\"\"\n",
    "\n",
    "if (n_total_datos % 2 ==  0):\n",
    "    # realiza la operación sin sumar \n",
    "    mediana = round(li[fab_ac_i] + float((((n_total_datos / 2) - frec_table['F'][fac_menos_i])) / fab_i_me ) * amplitud, 2)\n",
    "else:\n",
    "    mediana = round(li[fab_ac_i] + ( (( (n_total_datos +1) / 2) - frec_table['F'][fac_menos_i]) / fab_i_me) * amplitud, 2)  \n",
    "\n",
    "mediana"
   ]
  },
  {
   "cell_type": "code",
   "execution_count": 384,
   "id": "9b761c64-124c-45ab-ba18-96a470fc6c9a",
   "metadata": {},
   "outputs": [
    {
     "data": {
      "text/html": [
       "<div>\n",
       "<style scoped>\n",
       "    .dataframe tbody tr th:only-of-type {\n",
       "        vertical-align: middle;\n",
       "    }\n",
       "\n",
       "    .dataframe tbody tr th {\n",
       "        vertical-align: top;\n",
       "    }\n",
       "\n",
       "    .dataframe thead th {\n",
       "        text-align: right;\n",
       "    }\n",
       "</style>\n",
       "<table border=\"1\" class=\"dataframe\">\n",
       "  <thead>\n",
       "    <tr style=\"text-align: right;\">\n",
       "      <th></th>\n",
       "      <th>Li</th>\n",
       "      <th>Ls</th>\n",
       "      <th>X</th>\n",
       "      <th>f</th>\n",
       "      <th>f r</th>\n",
       "      <th>F</th>\n",
       "      <th>%</th>\n",
       "      <th>F %</th>\n",
       "      <th>xf</th>\n",
       "    </tr>\n",
       "  </thead>\n",
       "  <tbody>\n",
       "    <tr>\n",
       "      <th>0</th>\n",
       "      <td>70</td>\n",
       "      <td>76</td>\n",
       "      <td>73.0</td>\n",
       "      <td>9</td>\n",
       "      <td>0.3000</td>\n",
       "      <td>9</td>\n",
       "      <td>30.00</td>\n",
       "      <td>30.00</td>\n",
       "      <td>657.0</td>\n",
       "    </tr>\n",
       "    <tr>\n",
       "      <th>1</th>\n",
       "      <td>76</td>\n",
       "      <td>82</td>\n",
       "      <td>79.0</td>\n",
       "      <td>5</td>\n",
       "      <td>0.1667</td>\n",
       "      <td>14</td>\n",
       "      <td>16.67</td>\n",
       "      <td>46.67</td>\n",
       "      <td>395.0</td>\n",
       "    </tr>\n",
       "    <tr>\n",
       "      <th>2</th>\n",
       "      <td>82</td>\n",
       "      <td>88</td>\n",
       "      <td>85.0</td>\n",
       "      <td>7</td>\n",
       "      <td>0.2333</td>\n",
       "      <td>21</td>\n",
       "      <td>23.33</td>\n",
       "      <td>70.00</td>\n",
       "      <td>595.0</td>\n",
       "    </tr>\n",
       "    <tr>\n",
       "      <th>3</th>\n",
       "      <td>88</td>\n",
       "      <td>94</td>\n",
       "      <td>91.0</td>\n",
       "      <td>5</td>\n",
       "      <td>0.1667</td>\n",
       "      <td>26</td>\n",
       "      <td>16.67</td>\n",
       "      <td>86.67</td>\n",
       "      <td>455.0</td>\n",
       "    </tr>\n",
       "    <tr>\n",
       "      <th>4</th>\n",
       "      <td>94</td>\n",
       "      <td>100</td>\n",
       "      <td>97.0</td>\n",
       "      <td>4</td>\n",
       "      <td>0.1333</td>\n",
       "      <td>30</td>\n",
       "      <td>13.33</td>\n",
       "      <td>100.00</td>\n",
       "      <td>388.0</td>\n",
       "    </tr>\n",
       "  </tbody>\n",
       "</table>\n",
       "</div>"
      ],
      "text/plain": [
       "   Li   Ls     X  f     f r   F      %     F %     xf\n",
       "0  70   76  73.0  9  0.3000   9  30.00   30.00  657.0\n",
       "1  76   82  79.0  5  0.1667  14  16.67   46.67  395.0\n",
       "2  82   88  85.0  7  0.2333  21  23.33   70.00  595.0\n",
       "3  88   94  91.0  5  0.1667  26  16.67   86.67  455.0\n",
       "4  94  100  97.0  4  0.1333  30  13.33  100.00  388.0"
      ]
     },
     "execution_count": 384,
     "metadata": {},
     "output_type": "execute_result"
    }
   ],
   "source": [
    "frec_table"
   ]
  },
  {
   "cell_type": "code",
   "execution_count": 385,
   "id": "7341280f-6de1-48f5-82a4-42329b1785d1",
   "metadata": {},
   "outputs": [
    {
     "data": {
      "text/plain": [
       "(70, 0)"
      ]
     },
     "execution_count": 385,
     "metadata": {},
     "output_type": "execute_result"
    }
   ],
   "source": [
    "moda_pos = frec_table[\"f\"].idxmax()\n",
    "li_moda = li[moda_pos]\n",
    "\n",
    "li_moda, moda_pos "
   ]
  },
  {
   "cell_type": "markdown",
   "id": "ad179911-9240-4b4a-82e8-95d38b969960",
   "metadata": {},
   "source": [
    "####  OBSERVANDO UN ERROR AQUÍ."
   ]
  },
  {
   "cell_type": "code",
   "execution_count": 386,
   "id": "d6e2b4dc-ffa7-4c12-b164-e486e4f79ad1",
   "metadata": {},
   "outputs": [
    {
     "data": {
      "text/plain": [
       "74.15"
      ]
     },
     "execution_count": 386,
     "metadata": {},
     "output_type": "execute_result"
    }
   ],
   "source": [
    "# encontramos la moda de la siguiente  forma\n",
    "f_i_menos_uno_mo = frec_absoluta[moda_pos-1];\n",
    "f_mas_uno_mo = frec_absoluta[moda_pos+1];\n",
    "\n",
    "# El manejo de listas en Python se comporta de manera que si pedimos el indice -1 nos dara el ultimo de la lista/ serie.\n",
    "# Por eso en este caso, si la posicion de la moda es 0, no querremos hacer la operacion tipica de la moda, caso contrario si la querriamos hacer.\n",
    "if(moda_pos == 0):\n",
    "    moda = round(\n",
    "       li_moda + float(frec_absoluta[moda_pos] - 0) / ((frec_absoluta[moda_pos] - 0) + (frec_absoluta[moda_pos] - f_mas_uno_mo)) * amplitud\n",
    "    , 2)\n",
    "else:\n",
    "    \n",
    "    moda = round(\n",
    "       li_moda + float(frec_absoluta[moda_pos] - f_i_menos_uno_mo) / ((frec_absoluta[moda_pos] - f_i_menos_uno_mo) + (frec_absoluta[moda_pos] - f_mas_uno_mo)) * amplitud\n",
    "    , 2)\n",
    "    \n",
    "moda"
   ]
  },
  {
   "cell_type": "code",
   "execution_count": 387,
   "id": "3fe41b05-2726-4bba-8c23-06dafd8b2d12",
   "metadata": {},
   "outputs": [
    {
     "data": {
      "text/html": [
       "<div>\n",
       "<style scoped>\n",
       "    .dataframe tbody tr th:only-of-type {\n",
       "        vertical-align: middle;\n",
       "    }\n",
       "\n",
       "    .dataframe tbody tr th {\n",
       "        vertical-align: top;\n",
       "    }\n",
       "\n",
       "    .dataframe thead th {\n",
       "        text-align: right;\n",
       "    }\n",
       "</style>\n",
       "<table border=\"1\" class=\"dataframe\">\n",
       "  <thead>\n",
       "    <tr style=\"text-align: right;\">\n",
       "      <th></th>\n",
       "      <th>Media</th>\n",
       "      <th>Mediana</th>\n",
       "      <th>Moda</th>\n",
       "    </tr>\n",
       "  </thead>\n",
       "  <tbody>\n",
       "    <tr>\n",
       "      <th>0</th>\n",
       "      <td>83.0</td>\n",
       "      <td>82.86</td>\n",
       "      <td>74.15</td>\n",
       "    </tr>\n",
       "  </tbody>\n",
       "</table>\n",
       "</div>"
      ],
      "text/plain": [
       "   Media  Mediana   Moda\n",
       "0   83.0    82.86  74.15"
      ]
     },
     "execution_count": 387,
     "metadata": {},
     "output_type": "execute_result"
    }
   ],
   "source": [
    "centralizacion = pd.DataFrame({\"Media\": media, \"Mediana\": mediana,\"Moda\": moda}, index=[0])\n",
    "centralizacion"
   ]
  },
  {
   "cell_type": "code",
   "execution_count": 388,
   "id": "c34bd8d4-020c-4980-bcca-f0ba9bb59655",
   "metadata": {},
   "outputs": [
    {
     "data": {
      "text/plain": [
       "['[70 - 76)', '[76 - 82)', '[82 - 88)', '[88 - 94)', '[94 - 100)']"
      ]
     },
     "execution_count": 388,
     "metadata": {},
     "output_type": "execute_result"
    }
   ],
   "source": [
    "li_ls = []\n",
    "\n",
    "interv = 0;\n",
    "while (len(li_ls) < len(li)):\n",
    "    li_ls.append(f'[{li[interv]} - {ls[interv]})')\n",
    "    #li_ls.append(li[interv])\n",
    "    interv +=1\n",
    "\n",
    "height = list(frec_table['%'])\n",
    "li_ls"
   ]
  },
  {
   "cell_type": "code",
   "execution_count": 389,
   "id": "7ed0329d-c374-4eb9-9893-c45acbb43cc7",
   "metadata": {},
   "outputs": [
    {
     "data": {
      "image/png": "[encoded data removed]",
      "text/plain": [
       "<Figure size 2200x1100 with 4 Axes>"
      ]
     },
     "metadata": {},
     "output_type": "display_data"
    }
   ],
   "source": [
    "fig, ((ax1, ax2), (ax3, ax4)) = plt.subplots(figsize=(22,11), nrows=2, ncols=2)\n",
    "\n",
    "barras =  ax1.bar(li_ls, height=height)\n",
    "\n",
    "ax1.set(\n",
    "    title='Diagrama de barras sobre {Lo que pida el usuario}',\n",
    "    xlabel= 'De lo que trata el eje',\n",
    "    ylabel= 'Porcentajes del eje',\n",
    "    \n",
    "    \n",
    ")\n",
    "\n",
    "\n",
    "for bar, prt in zip(barras, height):\n",
    "    altura = bar.get_height()\n",
    "    ax1.text(bar.get_x() + bar.get_width() /2, altura, f'{prt}%', ha='center', va='bottom')\n",
    "\n",
    "\n",
    "ax1.tick_params(axis='x', rotation=45)\n",
    "\n",
    "\n",
    "# Repartiendo los trozos del pastel \n",
    "\n",
    "pie = ax2.pie(x=height, labels=li_ls, autopct='%1.1f%%');\n",
    "\n",
    "ax2.set(\n",
    "    title='Diagrama pastel sobre {Lo que pida el usuario}'\n",
    ")\n",
    "\n",
    "\n",
    "\"\"\"\n",
    "ax3.plot([media, media], [0, 100], label='Media', linestyle='--', color='r')\n",
    "ax3.plot([mediana, mediana], [0, 100], label='Mediana', linestyle='-.', color='g')\n",
    "ax3.plot([moda, moda], [0, 100], label='Moda', linestyle=':', color='b')\n",
    "\"\"\";\n",
    "\n",
    "\n",
    "# Luego a lidear con la desviacion standard\n"
   ]
  },
  {
   "attachments": {},
   "cell_type": "markdown",
   "id": "ae45442e-6dd5-480b-8a48-674ff4e58a8a",
   "metadata": {},
   "source": [
    "### Next stop \n",
    "\n",
    "Medidas de dispersión"
   ]
  },
  {
   "cell_type": "code",
   "execution_count": null,
   "id": "ddada308-4b43-498a-9ef7-d43bfc78ada8",
   "metadata": {},
   "outputs": [],
   "source": []
  }
 ],
 "metadata": {
  "kernelspec": {
   "display_name": "Python 3 (ipykernel)",
   "language": "python",
   "name": "python3"
  },
  "language_info": {
   "codemirror_mode": {
    "name": "ipython",
    "version": 3
   },
   "file_extension": ".py",
   "mimetype": "text/x-python",
   "name": "python",
   "nbconvert_exporter": "python",
   "pygments_lexer": "ipython3",
   "version": "3.12.3"
  },
  "varInspector": {
   "cols": {
    "lenName": 16,
    "lenType": 16,
    "lenVar": 40
   },
   "kernels_config": {
    "python": {
     "delete_cmd_postfix": "",
     "delete_cmd_prefix": "del ",
     "library": "var_list.py",
     "varRefreshCmd": "print(var_dic_list())"
    },
    "r": {
     "delete_cmd_postfix": ") ",
     "delete_cmd_prefix": "rm(",
     "library": "var_list.r",
     "varRefreshCmd": "cat(var_dic_list()) "
    }
   },
   "types_to_exclude": [
    "module",
    "function",
    "builtin_function_or_method",
    "instance",
    "_Feature"
   ],
   "window_display": false
  }
 },
 "nbformat": 4,
 "nbformat_minor": 5
}
